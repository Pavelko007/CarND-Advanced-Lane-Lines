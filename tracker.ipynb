{
 "cells": [
  {
   "cell_type": "code",
   "execution_count": null,
   "metadata": {},
   "outputs": [],
   "source": [
    "\n",
    "import numpy as np\n",
    "import cv2\n",
    "class tracker():\n",
    "    def __init__(self, Mywindow_width, Mywindow_height, Mymargin, My_ym=1, My_xm = 1, Mysmooth_factor=15):\n",
    "        self.recent_centers = []\n",
    "        \n",
    "        self.window_width = Mywindow_width\n",
    "        \n",
    "        self.window_height = Mywindow_height\n",
    "        \n",
    "        self.margin = Mymargin \n",
    "        \n",
    "        self.ym_per_pix = My_ym #meters per pixel in vertical axis\n",
    "        \n",
    "        self.xm_per_pix = My_xm #meters per pixel in hor axis\n",
    "        \n",
    "        self.smooth_factor = Mysmooth_factor\n",
    "        \n",
    "    def find_window_centroids(self,image):\n",
    "        window_centroids = [] # Store the (left,right) window centroid positions per level\n",
    "        window = np.ones(self.window_width) # Create our window template that we will use for convolutions\n",
    "\n",
    "        # First find the two starting positions for the left and right lane by using np.sum to get the vertical image slice\n",
    "        # and then np.convolve the vertical image slice with the window template \n",
    "\n",
    "        # Sum quarter bottom of image to get slice, could use a different ratio\n",
    "        l_sum = np.sum(image[int(3*image.shape[0]/4):,:int(image.shape[1]/2)], axis=0)\n",
    "        l_center = np.argmax(np.convolve(window,l_sum))-self.window_width/2\n",
    "        r_sum = np.sum(image[int(3*image.shape[0]/4):,int(image.shape[1]/2):], axis=0)\n",
    "        r_center = np.argmax(np.convolve(window,r_sum))-self.window_width/2+int(image.shape[1]/2)\n",
    "\n",
    "        # Add what we found for the first layer\n",
    "        window_centroids.append((l_center,r_center))\n",
    "\n",
    "        # Go through each layer looking for max pixel locations\n",
    "        for level in range(1,(int)(image.shape[0]/self.window_height)):\n",
    "            # convolve the window into the vertical slice of the image\n",
    "            image_layer = np.sum(image[int(image.shape[0]-(level+1)*self.window_height):int(image.shape[0]-level*self.window_height),:], axis=0)\n",
    "            conv_signal = np.convolve(window, image_layer)\n",
    "            # Find the best left centroid by using past left center as a reference\n",
    "            # Use window_width/2 as offset because convolution signal reference is at right side of window, not center of window\n",
    "            offset = self.window_width/2\n",
    "            l_min_index = int(max(l_center+offset-self.margin,0))\n",
    "            l_max_index = int(min(l_center+offset+self.margin,image.shape[1]))\n",
    "            l_center = np.argmax(conv_signal[l_min_index:l_max_index])+l_min_index-offset\n",
    "            # Find the best right centroid by using past right center as a reference\n",
    "            r_min_index = int(max(r_center+offset-self.margin,0))\n",
    "            r_max_index = int(min(r_center+offset+self.margin,image.shape[1]))\n",
    "            r_center = np.argmax(conv_signal[r_min_index:r_max_index])+r_min_index-offset\n",
    "            # Add what we found for that layer\n",
    "            window_centroids.append((l_center,r_center))\n",
    "            \n",
    "        self.recent_centers.append(window_centroids)\n",
    "\n",
    "        return np.average(self.recent_centers[-self.smooth_factor:],axis = 0)\n",
    "\n"
   ]
  },
  {
   "cell_type": "code",
   "execution_count": null,
   "metadata": {},
   "outputs": [],
   "source": []
  }
 ],
 "metadata": {
  "kernelspec": {
   "display_name": "Python 3",
   "language": "python",
   "name": "python3"
  },
  "language_info": {
   "codemirror_mode": {
    "name": "ipython",
    "version": 3
   },
   "file_extension": ".py",
   "mimetype": "text/x-python",
   "name": "python",
   "nbconvert_exporter": "python",
   "pygments_lexer": "ipython3",
   "version": "3.5.2"
  },
  "widgets": {
   "state": {},
   "version": "1.1.2"
  }
 },
 "nbformat": 4,
 "nbformat_minor": 2
}
