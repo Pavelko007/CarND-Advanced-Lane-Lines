{
 "cells": [
  {
   "cell_type": "code",
   "execution_count": null,
   "metadata": {},
   "outputs": [],
   "source": [
    "from IPython.core.debugger import set_trace\n",
    "\n",
    "import numpy as np\n",
    "import cv2\n",
    "import glob\n",
    "import pickle\n",
    "from tracker import tracker\n",
    "from utilities import *\n",
    "\n",
    "dist_pickle = pickle.load(open('camera_cal/calibration.p','rb'))\n",
    "mtx = dist_pickle['mtx']\n",
    "dist = dist_pickle['dist']"
   ]
  },
  {
   "cell_type": "code",
   "execution_count": null,
   "metadata": {},
   "outputs": [],
   "source": [
    "images = glob.glob('./test_images/test*.jpg')\n",
    "format = './test_images/output/{1}{0}.jpg'\n",
    "\n",
    "for idx, fname in enumerate(images):\n",
    "    img = cv2.imread(fname)\n",
    "    result, preprocess_image, warped, detected_windows = process_image(img=img, mtx=mtx,dist=dist, return_debug_images=True)   \n",
    "    \n",
    "    result_write_name = format.format('tracked',idx)\n",
    "    cv2.imwrite(result_write_name,result)    \n",
    "    \n",
    "    preprocess_write_name =  format.format('preprocess', idx) \n",
    "    cv2.imwrite(preprocess_write_name, preprocess_image)\n",
    "    \n",
    "    cv2.imwrite(format.format('warped', idx), warped)\n",
    "    \n",
    "    cv2.imwrite(format.format('original', idx), img)\n",
    "    \n",
    "    cv2.imwrite(format.format('detected_windows', idx), detected_windows)\n",
    "print('...')"
   ]
  },
  {
   "cell_type": "code",
   "execution_count": null,
   "metadata": {},
   "outputs": [],
   "source": []
  },
  {
   "cell_type": "code",
   "execution_count": null,
   "metadata": {},
   "outputs": [],
   "source": []
  }
 ],
 "metadata": {
  "kernelspec": {
   "display_name": "Python 3",
   "language": "python",
   "name": "python3"
  },
  "language_info": {
   "codemirror_mode": {
    "name": "ipython",
    "version": 3
   },
   "file_extension": ".py",
   "mimetype": "text/x-python",
   "name": "python",
   "nbconvert_exporter": "python",
   "pygments_lexer": "ipython3",
   "version": "3.5.2"
  },
  "widgets": {
   "state": {},
   "version": "1.1.2"
  }
 },
 "nbformat": 4,
 "nbformat_minor": 2
}
