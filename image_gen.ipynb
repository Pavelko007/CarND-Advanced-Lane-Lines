{
 "cells": [
  {
   "cell_type": "code",
   "execution_count": null,
   "metadata": {},
   "outputs": [],
   "source": [
    "from IPython.core.debugger import set_trace\n",
    "\n",
    "import numpy as np\n",
    "import cv2\n",
    "import glob\n",
    "import pickle\n",
    "from utilities import *\n",
    "\n",
    "dist_pickle = pickle.load(open('camera_cal/calibration.p','rb'))\n",
    "mtx = dist_pickle['mtx']\n",
    "dist = dist_pickle['dist']"
   ]
  },
  {
   "cell_type": "code",
   "execution_count": null,
   "metadata": {},
   "outputs": [],
   "source": [
    "distorted_img = cv2.imread('./test_images/test1.jpg')\n",
    "undistorted_img= cv2.undistort(distorted_img, mtx, dist, None, mtx)\n",
    "cv2.imwrite('./output_images/undistorted.jpg', undistorted_img)"
   ]
  },
  {
   "cell_type": "code",
   "execution_count": null,
   "metadata": {},
   "outputs": [],
   "source": [
    "preprocessed_img = preprocess(undistorted_img, mtx, dist)\n",
    "cv2.imwrite('./output_images/preprocessed.jpg', preprocessed_img)"
   ]
  },
  {
   "cell_type": "code",
   "execution_count": null,
   "metadata": {},
   "outputs": [],
   "source": [
    "import matplotlib.pyplot as plt\n",
    "straight_img = cv2.imread(\"./test_images/straight_lines1.jpg\")\n",
    "\n",
    "straight_img = cv2.cvtColor(straight_img, cv2.COLOR_BGR2RGB)\n",
    "line_color = (0,255,0)\n",
    "lineThickness = 2\n",
    "img_size = (straight_img.shape[1], straight_img.shape[0])\n",
    "\n",
    "pt1 = (int(img_size[0]*0.544), int(img_size[1]*0.63))\n",
    "pt2 = (int(img_size[0]*0.87), int(img_size[1]))\n",
    "pt3 = (int(img_size[0]*0.14),img_size[1])\n",
    "pt4 = (int(img_size[0]*0.458),int(img_size[1]*0.63))\n",
    "\n",
    "perspective_img, Minv, undist = calc_perspective(straight_img, mtx, dist, img_size, preprocess_img=False)\n",
    "\n",
    "original_img = cv2.line(np.copy(undist), pt1, pt2, line_color, lineThickness)\n",
    "original_img = cv2.line(original_img, pt2, pt3, line_color, lineThickness)\n",
    "original_img = cv2.line(original_img, pt3, pt4, line_color, lineThickness)\n",
    "original_img = cv2.line(original_img, pt1, pt4, line_color, lineThickness)\n",
    "\n",
    "fig = plt.figure(figsize=(20, 10))\n",
    "plt.subplot(1, 2, 1)\n",
    "plt.title('original')\n",
    "plt.imshow(original_img)\n",
    "\n",
    "\n",
    "\n",
    "\n",
    "offset = img_size[0] * 0.23\n",
    "pt1 = (int(img_size[0]-offset), 0)\n",
    "pt2 = (int(img_size[0]-offset), int(img_size[1]))\n",
    "pt3 = (int(offset),img_size[1])\n",
    "pt4 = (int(offset),int(0))\n",
    "\n",
    "lineThickness = 10\n",
    "perspective_img = cv2.line(perspective_img, pt1, pt2, line_color, lineThickness)\n",
    "perspective_img = cv2.line(perspective_img, pt2, pt3, line_color, lineThickness)\n",
    "perspective_img = cv2.line(perspective_img, pt3, pt4, line_color, lineThickness)\n",
    "perspective_img = cv2.line(perspective_img, pt1, pt4, line_color, lineThickness) \n",
    "\n",
    "\n",
    "plt.subplot(1, 2, 2)\n",
    "plt.title('perspective')\n",
    "plt.imshow(perspective_img)\n",
    "plt.savefig('./output_images/perspective_transform.jpg')"
   ]
  },
  {
   "cell_type": "code",
   "execution_count": null,
   "metadata": {},
   "outputs": [],
   "source": [
    "images = glob.glob('./test_images/test*.jpg')\n",
    "format = './test_images/output/{1}{0}.jpg'\n",
    "\n",
    "for idx, fname in enumerate(images):\n",
    "    img = cv2.imread(fname)\n",
    "    img_rgb = cv2.cvtColor(img, cv2.COLOR_BGR2RGB)\n",
    "    result, preprocess_image, warped, road_perspective = process_image(img=img_rgb, mtx=mtx,dist=dist, return_debug_images=True)   \n",
    "    \n",
    "    result = cv2.cvtColor(result, cv2.COLOR_RGB2BGR)\n",
    "    result_write_name = format.format('tracked',idx)\n",
    "    cv2.imwrite(result_write_name,result)    \n",
    "        \n",
    "    preprocess_write_name =  format.format('preprocess', idx) \n",
    "    cv2.imwrite(preprocess_write_name, preprocess_image)\n",
    "    \n",
    "    cv2.imwrite(format.format('warped', idx), warped)\n",
    "    \n",
    "    cv2.imwrite(format.format('original', idx), img)        \n",
    "    \n",
    "    cv2.imwrite(format.format('road perspective', idx), road_perspective)\n",
    "    \n",
    "print('...')"
   ]
  },
  {
   "cell_type": "code",
   "execution_count": null,
   "metadata": {},
   "outputs": [],
   "source": []
  }
 ],
 "metadata": {
  "kernelspec": {
   "display_name": "Python 3",
   "language": "python",
   "name": "python3"
  },
  "language_info": {
   "codemirror_mode": {
    "name": "ipython",
    "version": 3
   },
   "file_extension": ".py",
   "mimetype": "text/x-python",
   "name": "python",
   "nbconvert_exporter": "python",
   "pygments_lexer": "ipython3",
   "version": "3.5.2"
  },
  "widgets": {
   "state": {},
   "version": "1.1.2"
  }
 },
 "nbformat": 4,
 "nbformat_minor": 2
}
